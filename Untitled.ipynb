{
 "cells": [
  {
   "cell_type": "code",
   "execution_count": 2,
   "id": "3cbf6640",
   "metadata": {},
   "outputs": [],
   "source": [
    "from abc import ABC,abstractmethod"
   ]
  },
  {
   "cell_type": "code",
   "execution_count": 9,
   "id": "3de0c2c3",
   "metadata": {},
   "outputs": [],
   "source": [
    "class Fiqur(ABC):\n",
    "    @abstractmethod\n",
    "    def sahe():\n",
    "        pass\n",
    "    @abstractmethod\n",
    "    def perimetr():\n",
    "        pass\n",
    "    \n",
    "class Kvadrat(Fiqur):\n",
    "    \n",
    "    def sahe(self,en,uzunluq):\n",
    "        return en*uzunluq\n",
    "    \n",
    "    def perimetr(self,en,uzunluq):\n",
    "        return 2*en+2*uzunluq\n",
    "    "
   ]
  },
  {
   "cell_type": "code",
   "execution_count": 10,
   "id": "d6368724",
   "metadata": {},
   "outputs": [],
   "source": [
    "k1=Kvadrat()"
   ]
  },
  {
   "cell_type": "code",
   "execution_count": 12,
   "id": "762b8cea",
   "metadata": {},
   "outputs": [
    {
     "data": {
      "text/plain": [
       "20"
      ]
     },
     "execution_count": 12,
     "metadata": {},
     "output_type": "execute_result"
    }
   ],
   "source": [
    "k1.perimetr(5,5)"
   ]
  },
  {
   "cell_type": "code",
   "execution_count": null,
   "id": "f3551580",
   "metadata": {},
   "outputs": [],
   "source": []
  }
 ],
 "metadata": {
  "kernelspec": {
   "display_name": "Python 3 (ipykernel)",
   "language": "python",
   "name": "python3"
  },
  "language_info": {
   "codemirror_mode": {
    "name": "ipython",
    "version": 3
   },
   "file_extension": ".py",
   "mimetype": "text/x-python",
   "name": "python",
   "nbconvert_exporter": "python",
   "pygments_lexer": "ipython3",
   "version": "3.10.7"
  }
 },
 "nbformat": 4,
 "nbformat_minor": 5
}
